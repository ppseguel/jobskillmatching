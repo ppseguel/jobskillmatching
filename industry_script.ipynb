{
  "nbformat": 4,
  "nbformat_minor": 0,
  "metadata": {
    "colab": {
      "name": "industry_script.ipynb",
      "version": "0.3.2",
      "provenance": [],
      "collapsed_sections": [],
      "include_colab_link": true
    },
    "kernelspec": {
      "name": "python3",
      "display_name": "Python 3"
    }
  },
  "cells": [
    {
      "cell_type": "markdown",
      "metadata": {
        "id": "view-in-github",
        "colab_type": "text"
      },
      "source": [
        "<a href=\"https://colab.research.google.com/github/ppseguel/jobskillmatching/blob/master/industry_script.ipynb\" target=\"_parent\"><img src=\"https://colab.research.google.com/assets/colab-badge.svg\" alt=\"Open In Colab\"/></a>"
      ]
    },
    {
      "cell_type": "code",
      "metadata": {
        "id": "vxsIaud5tFfD",
        "colab_type": "code",
        "outputId": "651a399e-1938-49d4-b9f9-57949e888bb5",
        "colab": {
          "base_uri": "https://localhost:8080/",
          "height": 224
        }
      },
      "source": [
        "#Installing features newest functions from scikit-learn, including multilabel confusion matrix. If this function if not require, just install the other packages.\n",
        "!pip install git+http://github.com/scikit-learn/scikit-learn.git\n"
      ],
      "execution_count": 1,
      "outputs": [
        {
          "output_type": "stream",
          "text": [
            "Collecting git+http://github.com/scikit-learn/scikit-learn.git\n",
            "  Cloning http://github.com/scikit-learn/scikit-learn.git to /tmp/pip-req-build-iy_h91mw\n",
            "  Running command git clone -q http://github.com/scikit-learn/scikit-learn.git /tmp/pip-req-build-iy_h91mw\n",
            "Requirement already satisfied (use --upgrade to upgrade): scikit-learn==0.22.dev0 from git+http://github.com/scikit-learn/scikit-learn.git in /usr/local/lib/python3.6/dist-packages\n",
            "Requirement already satisfied: numpy>=1.11.0 in /usr/local/lib/python3.6/dist-packages (from scikit-learn==0.22.dev0) (1.16.3)\n",
            "Requirement already satisfied: scipy>=0.17.0 in /usr/local/lib/python3.6/dist-packages (from scikit-learn==0.22.dev0) (1.2.1)\n",
            "Requirement already satisfied: joblib>=0.11 in /usr/local/lib/python3.6/dist-packages (from scikit-learn==0.22.dev0) (0.12.5)\n",
            "Building wheels for collected packages: scikit-learn\n",
            "  Building wheel for scikit-learn (setup.py) ... \u001b[?25l\u001b[?25hdone\n",
            "  Stored in directory: /tmp/pip-ephem-wheel-cache-5lvh_3kh/wheels/ec/59/9a/0fba63f83339d1b28888fbe388362cacb251b22521267a64e5\n",
            "Successfully built scikit-learn\n"
          ],
          "name": "stdout"
        }
      ]
    },
    {
      "cell_type": "code",
      "metadata": {
        "id": "sunhOx-qDKjB",
        "colab_type": "code",
        "outputId": "6125cf9c-43b7-4202-973b-525beed69a6d",
        "colab": {
          "base_uri": "https://localhost:8080/",
          "height": 122
        }
      },
      "source": [
        "#Install packages for problem transformarion with scikit-multilearn\n",
        "#!pip install -q skmultilearn.adapt\n",
        "!pip install scikit-multilearn\n",
        "\n"
      ],
      "execution_count": 7,
      "outputs": [
        {
          "output_type": "stream",
          "text": [
            "Collecting scikit-multilearn\n",
            "\u001b[?25l  Downloading https://files.pythonhosted.org/packages/bb/1f/e6ff649c72a1cdf2c7a1d31eb21705110ce1c5d3e7e26b2cc300e1637272/scikit_multilearn-0.2.0-py3-none-any.whl (89kB)\n",
            "\u001b[K     |████████████████████████████████| 92kB 5.5MB/s \n",
            "\u001b[?25hInstalling collected packages: scikit-multilearn\n",
            "Successfully installed scikit-multilearn-0.2.0\n"
          ],
          "name": "stdout"
        }
      ]
    },
    {
      "cell_type": "code",
      "metadata": {
        "id": "0Xg8sPcE2H1D",
        "colab_type": "code",
        "colab": {}
      },
      "source": [
        "#import dataset\n",
        "#follow this documentation, using Github, https://towardsdatascience.com/3-ways-to-load-csv-files-into-colab-7c14fcbdcb92\n",
        "\n",
        "import pandas as pd\n",
        "\n",
        "url = 'https://raw.githubusercontent.com/ppseguel/jobskillmatching/master/marketingintern_industry.csv'\n",
        "job_data = pd.read_csv(url)\n",
        "#job_data = pd.read_csv(url, sep=',').values\n",
        "#job_data = pd.DataFrame(job_data)\n",
        "#job_data = job_data.values\n",
        "\n",
        "#filling blank cells\n",
        "df = pd.DataFrame(job_data)\n",
        "df1 = df.fillna(0)\n",
        "\n",
        "df1.columns\n",
        "df1 = df1.rename(columns={\"Unnamed: 0\": \"id\", \"Linkedin/bloomberg\":\"LinkedInBloomerg\"})\n",
        "\n",
        "\n"
      ],
      "execution_count": 0,
      "outputs": []
    },
    {
      "cell_type": "code",
      "metadata": {
        "colab_type": "code",
        "id": "BTer7m1JbI0-",
        "colab": {}
      },
      "source": [
        "#Checking the dataset\n",
        "#print(job_data)\n",
        "#print(df1)\n",
        "#df1.head()\n",
        "#job_data.head()\n",
        "\n",
        "#print(job_data.Groups, job_data.tableau)\n"
      ],
      "execution_count": 0,
      "outputs": []
    },
    {
      "cell_type": "code",
      "metadata": {
        "id": "6zJTN3J0CVS_",
        "colab_type": "code",
        "colab": {}
      },
      "source": [
        "#EXPERIMENT 1 (EDIT DATASET)\n",
        "\n",
        "# 1. Construct Datasets for Training and Evaluation\n",
        "#selecting y and x variables\n",
        "\n",
        "#splitting the dataset into the source variables (independant variables) and the target variable (dependant variable)\n",
        "#sourcevars = d[[\"agr\",\"art\"] #all columns except the last one\n",
        "#targetvar = df[1] #only the last column\n",
        "\n",
        "sourcevars = df1[df1.columns[-31:-1]] # Remember, Python is 0-offset! The \"3rd\" entry is at slot 2.           \n",
        "targetvar = df1[df1.columns[1:18]] # Remember, Python is 0-offset! The \"3rd\" entry is at slot 2.\n",
        "               \n",
        "X = sourcevars\n",
        "y = targetvar\n",
        "\n",
        "#y_names = targetvar.names\n",
        "\n",
        "#targetvar.head()\n",
        "#print(y)\n",
        "#print(X)"
      ],
      "execution_count": 0,
      "outputs": []
    },
    {
      "cell_type": "code",
      "metadata": {
        "id": "9iog_PexN5JK",
        "colab_type": "code",
        "outputId": "e305fab2-8183-4bbb-a985-443f9e2834bf",
        "colab": {
          "base_uri": "https://localhost:8080/",
          "height": 51
        }
      },
      "source": [
        "# b) Construct Datasets for Training and Evaluation\n",
        "from sklearn.model_selection import train_test_split\n",
        "\n",
        "X_train, X_test, y_train, y_test = train_test_split(X, y, shuffle=True, test_size=0.25, random_state=42)\n",
        "print(\"Number samples in training: \", len(X_train))\n",
        "print(\"Number samples in testing: \", len(X_test))\n"
      ],
      "execution_count": 5,
      "outputs": [
        {
          "output_type": "stream",
          "text": [
            "Number samples in training:  514\n",
            "Number samples in testing:  172\n"
          ],
          "name": "stdout"
        }
      ]
    },
    {
      "cell_type": "code",
      "metadata": {
        "id": "opsVYVpdcteD",
        "colab_type": "code",
        "colab": {}
      },
      "source": [
        "from sklearn.preprocessing import MinMaxScaler\n",
        "mms = MinMaxScaler()\n",
        "X_train_norm = mms.fit_transform(X_train)\n",
        "X_test_norm = mms.transform(X_test)\n",
        "\n",
        "from sklearn.preprocessing import StandardScaler\n",
        "ss = StandardScaler()\n",
        "X_train_scaled = ss.fit_transform(X_train)\n",
        "X_test_scaled = ss.transform(X_test)"
      ],
      "execution_count": 0,
      "outputs": []
    },
    {
      "cell_type": "code",
      "metadata": {
        "id": "wzJbj6BTYa-T",
        "colab_type": "code",
        "outputId": "a593e8c2-66c2-42cf-b146-72c243af25ae",
        "colab": {
          "base_uri": "https://localhost:8080/",
          "height": 445
        }
      },
      "source": [
        "#EXPERIMENT 1\n",
        "\n",
        "#1) a) Decision Tree Classifier, performance metrics\n",
        "# using classifier chains\n",
        "from skmultilearn.problem_transform import ClassifierChain\n",
        "from skmultilearn.problem_transform import LabelPowerset\n",
        "from sklearn.tree import DecisionTreeClassifier\n",
        "import numpy as np\n",
        "from sklearn import metrics\n",
        "from sklearn.metrics import accuracy_score\n",
        "from sklearn.metrics import f1_score\n",
        "from sklearn.metrics import roc_auc_score\n",
        "from sklearn.metrics import recall_score\n",
        "from sklearn.metrics import precision_score\n",
        "\n",
        "\n",
        "\n",
        "\n",
        "# initialize classifier chains multi-label classifier\n",
        "# with a gaussian naive bayes base classifier\n",
        "#tree_giniIndex = ClassifierChain(DecisionTreeClassifier(criterion='entropy', max_depth=15))\n",
        "tree_giniIndex = LabelPowerset(DecisionTreeClassifier(criterion='entropy', max_depth=15))\n",
        "\n",
        "#tree_giniIndex2 = DecisionTreeClassifier(criterion='entropy', max_depth=15, class_weight=\"balanced\")\n",
        "\n",
        "\n",
        "# train\n",
        "tree_giniIndex.fit(X_train_norm, y_train)\n",
        "#tree_giniIndex2.fit(X_train_norm, y_train)\n",
        "\n",
        "# predict\n",
        "y_predict_DT = tree_giniIndex.predict(X_test_norm)\n",
        "#y_predict_DT2 = tree_giniIndex2.predict(X_test)\n",
        "\n",
        "#Accuracy score\n",
        "accuracy_DT = accuracy_score(y_test,y_predict_DT)\n",
        "print(\"Accuracy:\", accuracy_DT)\n",
        "\n",
        "#F1 measures\n",
        "f1_score_DT = f1_score(y_test,y_predict_DT, average=None)\n",
        "print(\"F1 per sample:\", f1_score_DT)\n",
        "\n",
        "f1_score_DT_micro = f1_score(y_test,y_predict_DT, average=\"micro\")\n",
        "print(\"F1_micro:\", f1_score_DT_micro)\n",
        "\n",
        "f1_score_DT_macro = f1_score(y_test,y_predict_DT, average=\"macro\")\n",
        "print(\"F1_macro:\",f1_score_DT_macro)\n",
        "\n",
        "#Recall measures\n",
        "recall_score_DT = recall_score(y_test,y_predict_DT, average=None)\n",
        "print(\"recall_score per sample:\",recall_score_DT)\n",
        "\n",
        "recall_score_DT_micro = recall_score(y_test,y_predict_DT, average=\"micro\")\n",
        "print(\"recall_score micro:\",recall_score_DT_micro)\n",
        "\n",
        "recall_score_DT_macro = recall_score(y_test,y_predict_DT, average=\"macro\")\n",
        "print(\"recall_score macro:\",recall_score_DT_macro)\n",
        "\n",
        "#Precision measures\n",
        "precision_score_DT = precision_score(y_test,y_predict_DT, average=None)\n",
        "print(\"precision per sample:\",recall_score_DT)\n",
        "\n",
        "precision_score_DT_micro = precision_score(y_test,y_predict_DT, average=\"micro\")\n",
        "print(\"precision micro:\",precision_score_DT_micro)\n",
        "\n",
        "precision_score_DT_macro = precision_score(y_test,y_predict_DT, average=\"macro\")\n",
        "print(\"precision macro:\",precision_score_DT_macro)\n",
        "\n",
        "\n",
        "#f1_score_DT = f1_score(y_test,y_predict_DT, average=\"binary\")\n",
        "\n",
        "#f1_score_DT2 = f1_score(y_test,y_predict_DT2, average=None)\n",
        "#f1_score_DT2 = f1_score(y_test,y_predict_DT2, average=\"weighted\")\n",
        "\n",
        "#roc1 = roc_auc_score(y_test,y_predict_DT)\n",
        "#roc2 = roc_auc_score(y_test,y_predict_DT2)\n",
        "\n",
        "#print(f1_score_DT2)\n",
        "\n",
        "#print(roc1)\n",
        "#print(roc2)\n",
        "\n"
      ],
      "execution_count": 7,
      "outputs": [
        {
          "output_type": "stream",
          "text": [
            "Accuracy: 0.22093023255813954\n",
            "F1 per sample: [0.         0.         0.28571429 0.375      0.         0.27906977\n",
            " 0.27272727 0.3        0.07407407 0.         0.32258065 0.2962963\n",
            " 0.26666667 0.09756098 0.19354839 0.24615385 0.2       ]\n",
            "F1_micro: 0.2583025830258303\n",
            "F1_macro: 0.18878777746718373\n",
            "recall_score per sample: [0.         0.         0.26315789 0.4        0.         0.24\n",
            " 0.25714286 0.375      0.14285714 0.         0.32258065 0.28571429\n",
            " 0.25       0.1        0.25       0.23529412 0.25      ]\n",
            "recall_score micro: 0.2631578947368421\n",
            "recall_score macro: 0.19833805548585157\n",
            "precision per sample: [0.         0.         0.26315789 0.4        0.         0.24\n",
            " 0.25714286 0.375      0.14285714 0.         0.32258065 0.28571429\n",
            " 0.25       0.1        0.25       0.23529412 0.25      ]\n",
            "precision micro: 0.2536231884057971\n",
            "precision macro: 0.18723225552310976\n"
          ],
          "name": "stdout"
        },
        {
          "output_type": "stream",
          "text": [
            "/usr/local/lib/python3.6/dist-packages/sklearn/metrics/classification.py:1437: UndefinedMetricWarning: F-score is ill-defined and being set to 0.0 in labels with no predicted samples.\n",
            "  'precision', 'predicted', average, warn_for)\n",
            "/usr/local/lib/python3.6/dist-packages/sklearn/metrics/classification.py:1439: UndefinedMetricWarning: F-score is ill-defined and being set to 0.0 in labels with no true samples.\n",
            "  'recall', 'true', average, warn_for)\n",
            "/usr/local/lib/python3.6/dist-packages/sklearn/metrics/classification.py:1439: UndefinedMetricWarning: Recall is ill-defined and being set to 0.0 in labels with no true samples.\n",
            "  'recall', 'true', average, warn_for)\n",
            "/usr/local/lib/python3.6/dist-packages/sklearn/metrics/classification.py:1437: UndefinedMetricWarning: Precision is ill-defined and being set to 0.0 in labels with no predicted samples.\n",
            "  'precision', 'predicted', average, warn_for)\n"
          ],
          "name": "stderr"
        }
      ]
    },
    {
      "cell_type": "code",
      "metadata": {
        "id": "QYQMlc2f2mEG",
        "colab_type": "code",
        "outputId": "4729504a-6517-4a6f-94d2-4e9c3074dc25",
        "colab": {
          "base_uri": "https://localhost:8080/",
          "height": 408
        }
      },
      "source": [
        "\n",
        "# a) Train and evaluate a decision treel model\n",
        "\n",
        "# using classifier chains\n",
        "#from skmultilearn.problem_transform import ClassifierChain\n",
        "#from skmultilearn.problem_transform import BinaryRelevance\n",
        "from skmultilearn.problem_transform import LabelPowerset\n",
        "#from sklearn.tree import DecisionTreeClassifier\n",
        "import numpy as np\n",
        "from sklearn import metrics\n",
        "from sklearn.metrics import accuracy_score\n",
        "from sklearn.metrics import f1_score\n",
        "from sklearn.metrics import roc_auc_score\n",
        "from sklearn.metrics import recall_score\n",
        "from sklearn.metrics import precision_score\n",
        "\n",
        "\n",
        "#normalization\n",
        "\n",
        "from sklearn.preprocessing import MinMaxScaler\n",
        "mms = MinMaxScaler()\n",
        "X_train_norm = mms.fit_transform(X_train)\n",
        "X_test_norm = mms.transform(X_test)\n",
        "\n",
        "from sklearn.preprocessing import StandardScaler\n",
        "ss = StandardScaler()\n",
        "X_train_scaled = ss.fit_transform(X_train)\n",
        "X_test_scaled = ss.transform(X_test)\n",
        "\n",
        "\n",
        "# Perform 10-fold cross-validation\n",
        "from sklearn.model_selection import cross_val_score\n",
        "from sklearn.model_selection import KFold\n",
        "\n",
        "kfold = KFold(n_splits=10, shuffle=True, random_state=2)\n",
        "tree_scores = cross_val_score(tree_giniIndex, X, y, cv=kfold, scoring=\"f1_micro\")\n",
        "print(\"Cross-validation score:\\n{}\".format(tree_scores))\n",
        "print(\"Average cross-validation score: {:.2f}\".format(tree_scores.mean()))\n",
        "print(\"Standard deviation: {:.2f}\".format(tree_scores.std()))\n",
        "\n",
        "# Tune Decision Tree hyperparameter using cross-validation\n",
        "best_score = 0\n",
        "for max_d in [1,2,3,4,5,6,7,8,9,11,13,15,17,18,19]:\n",
        "    \n",
        "    #tree_giniIndex = ClassifierChain(DecisionTreeClassifier(criterion='gini', max_depth=max_d, class_weight=\"balanced\").fit(X_train_norm, y_train))\n",
        "    #tree_giniIndex = BinaryRelevance(DecisionTreeClassifier(max_depth=max_d).fit(X_train_norm, y_train))\n",
        "    #tree_giniIndex = LabelPowerset(DecisionTreeClassifier(max_depth=max_d).fit(X_train_norm, y_train))\n",
        "    #tree_giniIndex = LabelPowerset(DecisionTreeClassifier(criterion='entropy', max_depth=max_d, class_weight=\"balanced\").fit(X_train_norm, y_train))\n",
        "    tree_giniIndex = LabelPowerset(DecisionTreeClassifier(criterion='entropy', max_depth=max_d).fit(X_train_norm, y_train))\n",
        "\n",
        "    fold_accuracies = cross_val_score(tree_giniIndex, X_train_norm, y_train, cv=kfold, scoring=\"f1_micro\") \n",
        "    score = fold_accuracies.mean()\n",
        "    \n",
        "    print(\"Score for depth of \" + str(max_d) + \"on validation set is {:0.2f}\".format(score))\n",
        "    \n",
        "    #Best score for best optimal model\n",
        "    \n",
        "    if score > best_score:\n",
        "        best_param = {'max_depth': max_d}\n",
        "        best_score = score\n",
        "        \n",
        "#Part of the answer of question 3        \n",
        "tree_giniIndex = DecisionTreeClassifier(**best_param)\n",
        "tree_giniIndex.fit(X_train_norm, y_train)\n",
        "test_score = tree_giniIndex.score(X_test_norm, y_test)\n",
        "print(\"Best score on cross-validation: {:0.2f}\".format(best_score))\n",
        "print(\"Best parameters: {}\".format(best_param))\n",
        "print(\"Test set score: {:.2f}\".format(test_score))\n"
      ],
      "execution_count": 8,
      "outputs": [
        {
          "output_type": "stream",
          "text": [
            "Cross-validation score:\n",
            "[0.21505376 0.29107981 0.27966102 0.28019324 0.20909091 0.30630631\n",
            " 0.24299065 0.30697674 0.28828829 0.19811321]\n",
            "Average cross-validation score: 0.26\n",
            "Standard deviation: 0.04\n",
            "Score for depth of 1on validation set is 0.14\n",
            "Score for depth of 2on validation set is 0.17\n",
            "Score for depth of 3on validation set is 0.16\n",
            "Score for depth of 4on validation set is 0.19\n",
            "Score for depth of 5on validation set is 0.18\n",
            "Score for depth of 6on validation set is 0.19\n",
            "Score for depth of 7on validation set is 0.18\n",
            "Score for depth of 8on validation set is 0.19\n",
            "Score for depth of 9on validation set is 0.20\n",
            "Score for depth of 11on validation set is 0.22\n",
            "Score for depth of 13on validation set is 0.23\n",
            "Score for depth of 15on validation set is 0.23\n",
            "Score for depth of 17on validation set is 0.23\n",
            "Score for depth of 18on validation set is 0.22\n",
            "Score for depth of 19on validation set is 0.22\n",
            "Best score on cross-validation: 0.23\n",
            "Best parameters: {'max_depth': 17}\n",
            "Test set score: 0.20\n"
          ],
          "name": "stdout"
        }
      ]
    },
    {
      "cell_type": "code",
      "metadata": {
        "id": "l9mr_U6_ZXc4",
        "colab_type": "code",
        "outputId": "1961f90a-c2d4-4da1-8f7e-a2a18c872979",
        "colab": {
          "base_uri": "https://localhost:8080/",
          "height": 377
        }
      },
      "source": [
        "#2 b) KneighborsClassifier performance metrics\n",
        "# using classifier chains\n",
        "from skmultilearn.problem_transform import ClassifierChain\n",
        "from skmultilearn.problem_transform import LabelPowerset\n",
        "\n",
        "from sklearn.neighbors import KNeighborsClassifier\n",
        "import numpy as np\n",
        "from sklearn import metrics\n",
        "from sklearn.metrics import accuracy_score\n",
        "from sklearn.metrics import f1_score\n",
        "from sklearn.metrics import recall_score\n",
        "from sklearn.metrics import precision_score\n",
        "\n",
        "\n",
        "\n",
        "#normalization\n",
        "\n",
        "from sklearn.preprocessing import MinMaxScaler\n",
        "mms = MinMaxScaler()\n",
        "X_train_norm = mms.fit_transform(X_train)\n",
        "X_test_norm = mms.transform(X_test)\n",
        "\n",
        "from sklearn.preprocessing import StandardScaler\n",
        "ss = StandardScaler()\n",
        "X_train_scaled = ss.fit_transform(X_train)\n",
        "X_test_scaled = ss.transform(X_test)\n",
        "\n",
        "\n",
        "# initialize classifier chains multi-label classifier\n",
        "# with a gaussian naive bayes base classifier\n",
        "#Knclassifier = ClassifierChain(KNeighborsClassifier(n_neighbors=1, p =1, metric=\"minkowski\"))\n",
        "Knclassifier = LabelPowerset(KNeighborsClassifier(n_neighbors=1, p =1, metric=\"minkowski\"))\n",
        "\n",
        "# train\n",
        "Knclassifier1 =Knclassifier.fit(X_train_norm, y_train)\n",
        "\n",
        "# predict\n",
        "y_predict_KN = Knclassifier1.predict(X_test_norm)\n",
        "\n",
        "accuracy_KN= accuracy_score(y_test,y_predict_KN)\n",
        "\n",
        "f1_score_KN= f1_score(y_test,y_predict_KN, average=None)\n",
        "\n",
        "f1_score_KN_micro= f1_score(y_test,y_predict_KN, average=\"micro\")\n",
        "f1_score_KN_macro= f1_score(y_test,y_predict_KN, average=\"macro\")\n",
        "\n",
        "\n",
        "recall_KN= recall_score(y_test,y_predict_KN, average=None)\n",
        "recall_KN_micro= recall_score(y_test,y_predict_KN, average=\"micro\")\n",
        "recall_KN_macro= recall_score(y_test,y_predict_KN, average=\"macro\")\n",
        "\n",
        "\n",
        "precision_KN= precision_score(y_test,y_predict_KN, average=None)\n",
        "precision_KN_micro= precision_score(y_test,y_predict_KN, average=\"micro\")\n",
        "precision_KN_macro= precision_score(y_test,y_predict_KN, average=\"macro\")\n",
        "\n",
        "\n",
        "\n",
        "print(\"Accuracy:\",accuracy_KN)\n",
        "print(\"f1 score per sample:\",f1_score_KN)\n",
        "print(\"f1score_micro\",f1_score_KN_micro)\n",
        "print(\"f1score_macro\",f1_score_KN_macro)\n",
        "print(\"recall per sample:\",recall_KN)\n",
        "print(\"recall_micro\",recall_KN_micro)\n",
        "print(\"recall_macro\",recall_KN_macro)\n",
        "\n",
        "print(\"precision per sample:\",precision_KN)\n",
        "print(\"precision_micro\",precision_KN_micro)\n",
        "print(\"precision_macro\",precision_KN_macro)\n",
        "\n",
        "\n"
      ],
      "execution_count": 9,
      "outputs": [
        {
          "output_type": "stream",
          "text": [
            "Accuracy: 0.22674418604651161\n",
            "f1 score per sample: [0.         0.         0.36363636 0.28125    0.         0.3255814\n",
            " 0.16949153 0.35294118 0.11764706 0.         0.33333333 0.35087719\n",
            " 0.17391304 0.15384615 0.20689655 0.3125     0.16666667]\n",
            "f1score_micro 0.263653483992467\n",
            "f1score_macro 0.19462238010200328\n",
            "recall per sample: [0.         0.         0.31578947 0.3        0.         0.28\n",
            " 0.14285714 0.375      0.14285714 0.         0.32258065 0.35714286\n",
            " 0.25       0.15       0.25       0.29411765 0.25      ]\n",
            "recall_micro 0.2631578947368421\n",
            "recall_macro 0.2017849946330275\n",
            "precision per sample: [0.         0.         0.42857143 0.26470588 0.         0.38888889\n",
            " 0.20833333 0.33333333 0.1        0.         0.34482759 0.34482759\n",
            " 0.13333333 0.15789474 0.17647059 0.33333333 0.125     ]\n",
            "precision_micro 0.2641509433962264\n",
            "precision_macro 0.1964423547433991\n"
          ],
          "name": "stdout"
        },
        {
          "output_type": "stream",
          "text": [
            "/usr/local/lib/python3.6/dist-packages/sklearn/metrics/classification.py:1439: UndefinedMetricWarning: F-score is ill-defined and being set to 0.0 in labels with no true samples.\n",
            "  'recall', 'true', average, warn_for)\n",
            "/usr/local/lib/python3.6/dist-packages/sklearn/metrics/classification.py:1439: UndefinedMetricWarning: Recall is ill-defined and being set to 0.0 in labels with no true samples.\n",
            "  'recall', 'true', average, warn_for)\n"
          ],
          "name": "stderr"
        }
      ]
    },
    {
      "cell_type": "code",
      "metadata": {
        "id": "lIgyd8PB8XiC",
        "colab_type": "code",
        "outputId": "0b761963-2614-4960-f5e3-b0a804a62162",
        "colab": {
          "base_uri": "https://localhost:8080/",
          "height": 51
        }
      },
      "source": [
        "#2 b)  Train and evaluate a K-Nearest Neighbors, tuning hyperparameters\n",
        "\n",
        "\n",
        "#from skmultilearn.problem_transform import ClassifierChain\n",
        "#from skmultilearn.problem_transform import BinaryRelevance\n",
        "from skmultilearn.problem_transform import LabelPowerset\n",
        "from sklearn.neighbors import KNeighborsClassifier\n",
        "import numpy as np\n",
        "from sklearn import metrics\n",
        "from sklearn.metrics import accuracy_score\n",
        "from sklearn.neighbors import KNeighborsClassifier\n",
        "\n",
        "\n",
        "\n",
        "from sklearn.model_selection import cross_val_score\n",
        "from sklearn.model_selection import KFold\n",
        "kfold = KFold(n_splits=10, shuffle=True, random_state=0)\n",
        "\n",
        "#training_accuracy = []\n",
        "#test_accuracy = []\n",
        "knn_best_score=0\n",
        "neighbor_settings = range(1, 11)\n",
        "distance_metrics = range(1, 3)\n",
        "for n_neighbors in neighbor_settings:\n",
        "    for p in distance_metrics:\n",
        "        #knn_clf = ClassifierChain(KNeighborsClassifier(n_neighbors=n_neighbors, p=p))\n",
        "        #knn_clf = BinaryRelevance(KNeighborsClassifier(n_neighbors=n_neighbors, p=p))\n",
        "        knn_clf = LabelPowerset(KNeighborsClassifier(n_neighbors=n_neighbors, p=p, metric=\"minkowski\"))\n",
        "        fold_accuracies = cross_val_score(knn_clf, X_train_norm, y_train, cv=kfold, scoring=\"f1_micro\")\n",
        "        score = fold_accuracies.mean()\n",
        "        if score > knn_best_score: \n",
        "            knn_best_score = score\n",
        "            knn_clf_best_parameters={'n_neighbors': n_neighbors,'p': p}\n",
        "        \n",
        "\n",
        "print(\"Average cross-validation score: {:.10f}\".format(knn_best_score))\n",
        "print(\"Best parameter:\", knn_clf_best_parameters)"
      ],
      "execution_count": 10,
      "outputs": [
        {
          "output_type": "stream",
          "text": [
            "Average cross-validation score: 0.2559932432\n",
            "Best parameter: {'n_neighbors': 1, 'p': 1}\n"
          ],
          "name": "stdout"
        }
      ]
    },
    {
      "cell_type": "code",
      "metadata": {
        "id": "Zi0A_RdeFpzO",
        "colab_type": "code",
        "outputId": "4a2218fe-aa68-4ef4-d6ec-6ee64011a5d8",
        "colab": {
          "base_uri": "https://localhost:8080/",
          "height": 867
        }
      },
      "source": [
        "#MULTILABEL CONFUSION MATRIX for Decision TRee\n",
        "import numpy as np\n",
        "from sklearn.metrics import multilabel_confusion_matrix\n",
        "\n",
        "\n",
        "#multilabel_confusion_matrix(y_true, y_pred, sample_weight=None, labels=None, samplewise=False)\n",
        "cm = multilabel_confusion_matrix(y_test, y_predict_DT, sample_weight=None, samplewise=False)\n",
        "\n",
        "print(cm)\n",
        "\n",
        "#[[TN, FP], \n",
        "# [FN,TP]], ith True on the left (Neg, Pos) and predict on the top (Neg, Pos)\n",
        "\n",
        "#f1_score_DT = f1_score(y_test,y_predict_DT, average=None)\n",
        "\n",
        "#labels=[\"agr\",\"art\",\"cons\",\"corp\",\"edu\",\"fin\",\"good\",\"gov\",\"hlth\",\"leg\",\"man\",\"med\",\"org\",\"rec\",\"serv\",\"tech\",\"tran\"],"
      ],
      "execution_count": 11,
      "outputs": [
        {
          "output_type": "stream",
          "text": [
            "[[[171   1]\n",
            "  [  0   0]]\n",
            "\n",
            " [[169   0]\n",
            "  [  3   0]]\n",
            "\n",
            " [[142  11]\n",
            "  [ 14   5]]\n",
            "\n",
            " [[120  22]\n",
            "  [ 18  12]]\n",
            "\n",
            " [[167   3]\n",
            "  [  2   0]]\n",
            "\n",
            " [[135  12]\n",
            "  [ 19   6]]\n",
            "\n",
            " [[115  22]\n",
            "  [ 26   9]]\n",
            "\n",
            " [[155   9]\n",
            "  [  5   3]]\n",
            "\n",
            " [[146  19]\n",
            "  [  6   1]]\n",
            "\n",
            " [[172   0]\n",
            "  [  0   0]]\n",
            "\n",
            " [[120  21]\n",
            "  [ 21  10]]\n",
            "\n",
            " [[126  18]\n",
            "  [ 20   8]]\n",
            "\n",
            " [[159   5]\n",
            "  [  6   2]]\n",
            "\n",
            " [[133  19]\n",
            "  [ 18   2]]\n",
            "\n",
            " [[144  16]\n",
            "  [  9   3]]\n",
            "\n",
            " [[115  23]\n",
            "  [ 26   8]]\n",
            "\n",
            " [[163   5]\n",
            "  [  3   1]]]\n"
          ],
          "name": "stdout"
        }
      ]
    },
    {
      "cell_type": "code",
      "metadata": {
        "id": "vIK2w53ycwG-",
        "colab_type": "code",
        "outputId": "c3743318-e6ec-40de-c845-d7ad60b29c30",
        "colab": {
          "base_uri": "https://localhost:8080/",
          "height": 300
        }
      },
      "source": [
        "#Plot a confusion matrix for each targeted label using the values of the Multilabel decision matrix on the Decision Tree\n",
        "#label \"agr\"\n",
        "\n",
        "from sklearn.metrics import confusion_matrix\n",
        "import seaborn as sns\n",
        "import matplotlib.pyplot as plt \n",
        "import numpy as np\n",
        "\n",
        "\n",
        "mat = np.array([[171,1], [0,0]])\n",
        "       \n",
        "#mat = np.array([[1, 0],[0, 1]])       \n",
        "       \n",
        "#mat = multilabel_confusion_matrix(y_test, y_predict_DT, sample_weight=None, samplewise=False)\n",
        "\n",
        "sns.heatmap(mat.T, square=True, annot=True, fmt='d', cbar=False)\n",
        "plt.xlabel('true label')\n",
        "plt.ylabel('predicted label')"
      ],
      "execution_count": 12,
      "outputs": [
        {
          "output_type": "execute_result",
          "data": {
            "text/plain": [
              "Text(91.68, 0.5, 'predicted label')"
            ]
          },
          "metadata": {
            "tags": []
          },
          "execution_count": 12
        },
        {
          "output_type": "display_data",
          "data": {
            "image/png": "[encoded data removed]",
            "text/plain": [
              "<Figure size 432x288 with 1 Axes>"
            ]
          },
          "metadata": {
            "tags": []
          }
        }
      ]
    },
    {
      "cell_type": "code",
      "metadata": {
        "id": "NOknr0zydhUF",
        "colab_type": "code",
        "colab": {
          "base_uri": "https://localhost:8080/",
          "height": 300
        },
        "outputId": "9804d9a8-4433-406e-8dc2-60de8801b116"
      },
      "source": [
        "#label \"art\"\n",
        "from sklearn.metrics import confusion_matrix\n",
        "import seaborn as sns\n",
        "import matplotlib.pyplot as plt \n",
        "import numpy as np\n",
        "\n",
        "\n",
        "mat = np.array([[167,2], [3,0]])\n",
        "       \n",
        "sns.heatmap(mat.T, square=True, annot=True, fmt='d', cbar=False)\n",
        "plt.xlabel('true label')\n",
        "plt.ylabel('predicted label')"
      ],
      "execution_count": 13,
      "outputs": [
        {
          "output_type": "execute_result",
          "data": {
            "text/plain": [
              "Text(91.68, 0.5, 'predicted label')"
            ]
          },
          "metadata": {
            "tags": []
          },
          "execution_count": 13
        },
        {
          "output_type": "display_data",
          "data": {
            "image/png": "[encoded data removed]",
            "text/plain": [
              "<Figure size 432x288 with 1 Axes>"
            ]
          },
          "metadata": {
            "tags": []
          }
        }
      ]
    },
    {
      "cell_type": "code",
      "metadata": {
        "id": "84hjPppafBfl",
        "colab_type": "code",
        "colab": {
          "base_uri": "https://localhost:8080/",
          "height": 300
        },
        "outputId": "604252ea-f23a-4bd3-8487-e2e70dc13aff"
      },
      "source": [
        "#label \"cons\"\n",
        "from sklearn.metrics import confusion_matrix\n",
        "import seaborn as sns\n",
        "import matplotlib.pyplot as plt \n",
        "import numpy as np\n",
        "\n",
        "\n",
        "mat = np.array([[133,20], [12,7]])\n",
        "       \n",
        "sns.heatmap(mat.T, square=True, annot=True, fmt='d', cbar=False)\n",
        "plt.xlabel('true label')\n",
        "plt.ylabel('predicted label')\n"
      ],
      "execution_count": 14,
      "outputs": [
        {
          "output_type": "execute_result",
          "data": {
            "text/plain": [
              "Text(91.68, 0.5, 'predicted label')"
            ]
          },
          "metadata": {
            "tags": []
          },
          "execution_count": 14
        },
        {
          "output_type": "display_data",
          "data": {
            "image/png": "[encoded data removed]",
            "text/plain": [
              "<Figure size 432x288 with 1 Axes>"
            ]
          },
          "metadata": {
            "tags": []
          }
        }
      ]
    },
    {
      "cell_type": "code",
      "metadata": {
        "id": "2HkDuBW2fQzL",
        "colab_type": "code",
        "colab": {
          "base_uri": "https://localhost:8080/",
          "height": 300
        },
        "outputId": "91fa7384-f8ee-4f28-b6c3-36acef3d82fc"
      },
      "source": [
        "#label \"corp\"\n",
        "\n",
        "from sklearn.metrics import confusion_matrix\n",
        "import seaborn as sns\n",
        "import matplotlib.pyplot as plt \n",
        "import numpy as np\n",
        "\n",
        "\n",
        "mat = np.array([[115,27], [21,9]])\n",
        "       \n",
        "sns.heatmap(mat.T, square=True, annot=True, fmt='d', cbar=False)\n",
        "plt.xlabel('true label')\n",
        "plt.ylabel('predicted label')\n"
      ],
      "execution_count": 15,
      "outputs": [
        {
          "output_type": "execute_result",
          "data": {
            "text/plain": [
              "Text(91.68, 0.5, 'predicted label')"
            ]
          },
          "metadata": {
            "tags": []
          },
          "execution_count": 15
        },
        {
          "output_type": "display_data",
          "data": {
            "image/png": "[encoded data removed]",
            "text/plain": [
              "<Figure size 432x288 with 1 Axes>"
            ]
          },
          "metadata": {
            "tags": []
          }
        }
      ]
    },
    {
      "cell_type": "code",
      "metadata": {
        "id": "1DY_v59KfUSM",
        "colab_type": "code",
        "colab": {
          "base_uri": "https://localhost:8080/",
          "height": 300
        },
        "outputId": "768db16e-2b4a-47e1-ed9e-7ab2fb2597f8"
      },
      "source": [
        "#label \"edu\"\n",
        "\n",
        "from sklearn.metrics import confusion_matrix\n",
        "import seaborn as sns\n",
        "import matplotlib.pyplot as plt \n",
        "import numpy as np\n",
        "\n",
        "\n",
        "mat = np.array([[163,7], [2,0]])\n",
        "       \n",
        "sns.heatmap(mat.T, square=True, annot=True, fmt='d', cbar=False)\n",
        "plt.xlabel('true label')\n",
        "plt.ylabel('predicted label')\n"
      ],
      "execution_count": 16,
      "outputs": [
        {
          "output_type": "execute_result",
          "data": {
            "text/plain": [
              "Text(91.68, 0.5, 'predicted label')"
            ]
          },
          "metadata": {
            "tags": []
          },
          "execution_count": 16
        },
        {
          "output_type": "display_data",
          "data": {
            "image/png": "[encoded data removed]",
            "text/plain": [
              "<Figure size 432x288 with 1 Axes>"
            ]
          },
          "metadata": {
            "tags": []
          }
        }
      ]
    },
    {
      "cell_type": "code",
      "metadata": {
        "id": "YqyZJ-jDfZOH",
        "colab_type": "code",
        "colab": {
          "base_uri": "https://localhost:8080/",
          "height": 300
        },
        "outputId": "8261393f-2e1f-47cb-8f12-edc49b8cb7e7"
      },
      "source": [
        "#label \"\"fin\"\n",
        "\n",
        "from sklearn.metrics import confusion_matrix\n",
        "import seaborn as sns\n",
        "import matplotlib.pyplot as plt \n",
        "import numpy as np\n",
        "\n",
        "\n",
        "mat = np.array([[128,19], [16,9]])\n",
        "       \n",
        "sns.heatmap(mat.T, square=True, annot=True, fmt='d', cbar=False)\n",
        "plt.xlabel('true label')\n",
        "plt.ylabel('predicted label')\n"
      ],
      "execution_count": 17,
      "outputs": [
        {
          "output_type": "execute_result",
          "data": {
            "text/plain": [
              "Text(91.68, 0.5, 'predicted label')"
            ]
          },
          "metadata": {
            "tags": []
          },
          "execution_count": 17
        },
        {
          "output_type": "display_data",
          "data": {
            "image/png": "[encoded data removed]",
            "text/plain": [
              "<Figure size 432x288 with 1 Axes>"
            ]
          },
          "metadata": {
            "tags": []
          }
        }
      ]
    },
    {
      "cell_type": "code",
      "metadata": {
        "id": "XcqxpfmwfaMq",
        "colab_type": "code",
        "colab": {
          "base_uri": "https://localhost:8080/",
          "height": 300
        },
        "outputId": "351d8ae5-9637-4703-b41d-06b541955981"
      },
      "source": [
        "#label \"good\"\n",
        "\n",
        "from sklearn.metrics import confusion_matrix\n",
        "import seaborn as sns\n",
        "import matplotlib.pyplot as plt \n",
        "import numpy as np\n",
        "\n",
        "\n",
        "mat = np.array([[112,25], [22,13]])\n",
        "       \n",
        "sns.heatmap(mat.T, square=True, annot=True, fmt='d', cbar=False)\n",
        "plt.xlabel('true label')\n",
        "plt.ylabel('predicted label')\n"
      ],
      "execution_count": 18,
      "outputs": [
        {
          "output_type": "execute_result",
          "data": {
            "text/plain": [
              "Text(91.68, 0.5, 'predicted label')"
            ]
          },
          "metadata": {
            "tags": []
          },
          "execution_count": 18
        },
        {
          "output_type": "display_data",
          "data": {
            "image/png": "[encoded data removed]",
            "text/plain": [
              "<Figure size 432x288 with 1 Axes>"
            ]
          },
          "metadata": {
            "tags": []
          }
        }
      ]
    },
    {
      "cell_type": "code",
      "metadata": {
        "id": "QDhMgSyRfegi",
        "colab_type": "code",
        "colab": {
          "base_uri": "https://localhost:8080/",
          "height": 300
        },
        "outputId": "b8112240-bc7c-40fd-a8cc-c8d534d00227"
      },
      "source": [
        "#label \"gov\"\n",
        "\n",
        "from sklearn.metrics import confusion_matrix\n",
        "import seaborn as sns\n",
        "import matplotlib.pyplot as plt \n",
        "import numpy as np\n",
        "\n",
        "\n",
        "mat = np.array([[157,7], [6,2]])\n",
        "       \n",
        "sns.heatmap(mat.T, square=True, annot=True, fmt='d', cbar=False)\n",
        "plt.xlabel('true label')\n",
        "plt.ylabel('predicted label')\n"
      ],
      "execution_count": 19,
      "outputs": [
        {
          "output_type": "execute_result",
          "data": {
            "text/plain": [
              "Text(91.68, 0.5, 'predicted label')"
            ]
          },
          "metadata": {
            "tags": []
          },
          "execution_count": 19
        },
        {
          "output_type": "display_data",
          "data": {
            "image/png": "[encoded data removed]",
            "text/plain": [
              "<Figure size 432x288 with 1 Axes>"
            ]
          },
          "metadata": {
            "tags": []
          }
        }
      ]
    },
    {
      "cell_type": "code",
      "metadata": {
        "id": "9EvfFqoRfhJU",
        "colab_type": "code",
        "colab": {
          "base_uri": "https://localhost:8080/",
          "height": 300
        },
        "outputId": "567eed55-30e3-4a0e-debd-307189f13789"
      },
      "source": [
        "#label \"hlth\"\n",
        "\n",
        "from sklearn.metrics import confusion_matrix\n",
        "import seaborn as sns\n",
        "import matplotlib.pyplot as plt \n",
        "import numpy as np\n",
        "\n",
        "\n",
        "mat = np.array([[151,14], [6,1]])\n",
        "       \n",
        "sns.heatmap(mat.T, square=True, annot=True, fmt='d', cbar=False)\n",
        "plt.xlabel('true label')\n",
        "plt.ylabel('predicted label')\n"
      ],
      "execution_count": 20,
      "outputs": [
        {
          "output_type": "execute_result",
          "data": {
            "text/plain": [
              "Text(91.68, 0.5, 'predicted label')"
            ]
          },
          "metadata": {
            "tags": []
          },
          "execution_count": 20
        },
        {
          "output_type": "display_data",
          "data": {
            "image/png": "[encoded data removed]",
            "text/plain": [
              "<Figure size 432x288 with 1 Axes>"
            ]
          },
          "metadata": {
            "tags": []
          }
        }
      ]
    },
    {
      "cell_type": "code",
      "metadata": {
        "id": "POPBExT8fkaM",
        "colab_type": "code",
        "colab": {
          "base_uri": "https://localhost:8080/",
          "height": 300
        },
        "outputId": "d29b966d-4195-4d17-a1bc-e19bf4dce31d"
      },
      "source": [
        "#label \"leg\"\n",
        "\n",
        "from sklearn.metrics import confusion_matrix\n",
        "import seaborn as sns\n",
        "import matplotlib.pyplot as plt \n",
        "import numpy as np\n",
        "\n",
        "\n",
        "mat = np.array([[171,1], [0,0]])\n",
        "       \n",
        "sns.heatmap(mat.T, square=True, annot=True, fmt='d', cbar=False)\n",
        "plt.xlabel('true label')\n",
        "plt.ylabel('predicted label')\n"
      ],
      "execution_count": 21,
      "outputs": [
        {
          "output_type": "execute_result",
          "data": {
            "text/plain": [
              "Text(91.68, 0.5, 'predicted label')"
            ]
          },
          "metadata": {
            "tags": []
          },
          "execution_count": 21
        },
        {
          "output_type": "display_data",
          "data": {
            "image/png": "[encoded data removed]",
            "text/plain": [
              "<Figure size 432x288 with 1 Axes>"
            ]
          },
          "metadata": {
            "tags": []
          }
        }
      ]
    },
    {
      "cell_type": "code",
      "metadata": {
        "id": "jRkK9Bu9fnXq",
        "colab_type": "code",
        "colab": {
          "base_uri": "https://localhost:8080/",
          "height": 300
        },
        "outputId": "0242024a-0cec-47b6-fa8a-c6b01f91ebd3"
      },
      "source": [
        "#label \"man\"\n",
        "\n",
        "from sklearn.metrics import confusion_matrix\n",
        "import seaborn as sns\n",
        "import matplotlib.pyplot as plt \n",
        "import numpy as np\n",
        "\n",
        "\n",
        "mat = np.array([[123,18], [22,9]])\n",
        "       \n",
        "sns.heatmap(mat.T, square=True, annot=True, fmt='d', cbar=False)\n",
        "plt.xlabel('true label')\n",
        "plt.ylabel('predicted label')\n"
      ],
      "execution_count": 22,
      "outputs": [
        {
          "output_type": "execute_result",
          "data": {
            "text/plain": [
              "Text(91.68, 0.5, 'predicted label')"
            ]
          },
          "metadata": {
            "tags": []
          },
          "execution_count": 22
        },
        {
          "output_type": "display_data",
          "data": {
            "image/png": "[encoded data removed]",
            "text/plain": [
              "<Figure size 432x288 with 1 Axes>"
            ]
          },
          "metadata": {
            "tags": []
          }
        }
      ]
    },
    {
      "cell_type": "code",
      "metadata": {
        "id": "HflyTVgAftV8",
        "colab_type": "code",
        "colab": {
          "base_uri": "https://localhost:8080/",
          "height": 300
        },
        "outputId": "3f280b81-f5c2-46ce-a88a-ac5156f7b0b5"
      },
      "source": [
        "#label \"med\"\n",
        "\n",
        "from sklearn.metrics import confusion_matrix\n",
        "import seaborn as sns\n",
        "import matplotlib.pyplot as plt \n",
        "import numpy as np\n",
        "from sklearn.metrics import multilabel_confusion_matrix\n",
        "\n",
        "\n",
        "mat = np.array([[124,20], [21,7]])\n",
        "       \n",
        "sns.heatmap(mat.T, square=True, annot=True, fmt='d', cbar=False)\n",
        "plt.xlabel('true label')\n",
        "plt.ylabel('predicted label')\n"
      ],
      "execution_count": 23,
      "outputs": [
        {
          "output_type": "execute_result",
          "data": {
            "text/plain": [
              "Text(91.68, 0.5, 'predicted label')"
            ]
          },
          "metadata": {
            "tags": []
          },
          "execution_count": 23
        },
        {
          "output_type": "display_data",
          "data": {
            "image/png": "[encoded data removed]",
            "text/plain": [
              "<Figure size 432x288 with 1 Axes>"
            ]
          },
          "metadata": {
            "tags": []
          }
        }
      ]
    },
    {
      "cell_type": "code",
      "metadata": {
        "id": "QdyzHU_bfwUa",
        "colab_type": "code",
        "colab": {
          "base_uri": "https://localhost:8080/",
          "height": 300
        },
        "outputId": "9a5e6e42-4dc4-48ea-e105-14bd9d6ffd5b"
      },
      "source": [
        "#label \"org\"\n",
        "\n",
        "from sklearn.metrics import confusion_matrix\n",
        "import seaborn as sns\n",
        "import matplotlib.pyplot as plt \n",
        "import numpy as np\n",
        "from sklearn.metrics import multilabel_confusion_matrix\n",
        "\n",
        "\n",
        "mat = np.array([[157,7], [6,2]])\n",
        "       \n",
        "sns.heatmap(mat.T, square=True, annot=True, fmt='d', cbar=False)\n",
        "plt.xlabel('true label')\n",
        "plt.ylabel('predicted label')\n"
      ],
      "execution_count": 24,
      "outputs": [
        {
          "output_type": "execute_result",
          "data": {
            "text/plain": [
              "Text(91.68, 0.5, 'predicted label')"
            ]
          },
          "metadata": {
            "tags": []
          },
          "execution_count": 24
        },
        {
          "output_type": "display_data",
          "data": {
            "image/png": "[encoded data removed]",
            "text/plain": [
              "<Figure size 432x288 with 1 Axes>"
            ]
          },
          "metadata": {
            "tags": []
          }
        }
      ]
    },
    {
      "cell_type": "code",
      "metadata": {
        "id": "XS3b9MTbfzx5",
        "colab_type": "code",
        "colab": {
          "base_uri": "https://localhost:8080/",
          "height": 300
        },
        "outputId": "ebc707b8-d52f-48fb-b42a-f8933bda8ee6"
      },
      "source": [
        "#label \"rec\"\n",
        "\n",
        "from sklearn.metrics import confusion_matrix\n",
        "import seaborn as sns\n",
        "import matplotlib.pyplot as plt \n",
        "import numpy as np\n",
        "from sklearn.metrics import multilabel_confusion_matrix\n",
        "\n",
        "\n",
        "mat = np.array([[128,24], [15,5]])\n",
        "       \n",
        "sns.heatmap(mat.T, square=True, annot=True, fmt='d', cbar=False)\n",
        "plt.xlabel('true label')\n",
        "plt.ylabel('predicted label')\n"
      ],
      "execution_count": 25,
      "outputs": [
        {
          "output_type": "execute_result",
          "data": {
            "text/plain": [
              "Text(91.68, 0.5, 'predicted label')"
            ]
          },
          "metadata": {
            "tags": []
          },
          "execution_count": 25
        },
        {
          "output_type": "display_data",
          "data": {
            "image/png": "[encoded data removed]",
            "text/plain": [
              "<Figure size 432x288 with 1 Axes>"
            ]
          },
          "metadata": {
            "tags": []
          }
        }
      ]
    },
    {
      "cell_type": "code",
      "metadata": {
        "id": "_2KQAyMUf0r2",
        "colab_type": "code",
        "colab": {
          "base_uri": "https://localhost:8080/",
          "height": 300
        },
        "outputId": "59ce5049-d30d-481d-b8f8-bcaa64e06943"
      },
      "source": [
        "#label \"serv\"\n",
        "\n",
        "from sklearn.metrics import confusion_matrix\n",
        "import seaborn as sns\n",
        "import matplotlib.pyplot as plt \n",
        "import numpy as np\n",
        "from sklearn.metrics import multilabel_confusion_matrix\n",
        "\n",
        "\n",
        "mat = np.array([[145,15], [10,2]])\n",
        "       \n",
        "sns.heatmap(mat.T, square=True, annot=True, fmt='d', cbar=False)\n",
        "plt.xlabel('true label')\n",
        "plt.ylabel('predicted label')\n"
      ],
      "execution_count": 26,
      "outputs": [
        {
          "output_type": "execute_result",
          "data": {
            "text/plain": [
              "Text(91.68, 0.5, 'predicted label')"
            ]
          },
          "metadata": {
            "tags": []
          },
          "execution_count": 26
        },
        {
          "output_type": "display_data",
          "data": {
            "image/png": "[encoded data removed]",
            "text/plain": [
              "<Figure size 432x288 with 1 Axes>"
            ]
          },
          "metadata": {
            "tags": []
          }
        }
      ]
    },
    {
      "cell_type": "code",
      "metadata": {
        "id": "0k2k_n_sf2qg",
        "colab_type": "code",
        "colab": {
          "base_uri": "https://localhost:8080/",
          "height": 300
        },
        "outputId": "7f23e3c0-0a46-4fb4-ca63-c46e083331e1"
      },
      "source": [
        "#label \"tech\"\n",
        "\n",
        "from sklearn.metrics import confusion_matrix\n",
        "import seaborn as sns\n",
        "import matplotlib.pyplot as plt \n",
        "import numpy as np\n",
        "from sklearn.metrics import multilabel_confusion_matrix\n",
        "\n",
        "\n",
        "mat = np.array([[124,14], [25,9]])\n",
        "       \n",
        "sns.heatmap(mat.T, square=True, annot=True, fmt='d', cbar=False)\n",
        "plt.xlabel('true label')\n",
        "plt.ylabel('predicted label')\n"
      ],
      "execution_count": 27,
      "outputs": [
        {
          "output_type": "execute_result",
          "data": {
            "text/plain": [
              "Text(91.68, 0.5, 'predicted label')"
            ]
          },
          "metadata": {
            "tags": []
          },
          "execution_count": 27
        },
        {
          "output_type": "display_data",
          "data": {
            "image/png": "[encoded data removed]",
            "text/plain": [
              "<Figure size 432x288 with 1 Axes>"
            ]
          },
          "metadata": {
            "tags": []
          }
        }
      ]
    },
    {
      "cell_type": "code",
      "metadata": {
        "id": "8aiFlfANf4tS",
        "colab_type": "code",
        "colab": {
          "base_uri": "https://localhost:8080/",
          "height": 300
        },
        "outputId": "d5995d73-d537-4948-9fdb-1f67be920343"
      },
      "source": [
        "#label \"tran\"\n",
        "\n",
        "from sklearn.metrics import confusion_matrix\n",
        "import seaborn as sns\n",
        "import matplotlib.pyplot as plt \n",
        "import numpy as np\n",
        "from sklearn.metrics import multilabel_confusion_matrix\n",
        "\n",
        "\n",
        "mat = np.array([[160,8], [4,0]])\n",
        "       \n",
        "sns.heatmap(mat.T, square=True, annot=True, fmt='d', cbar=False)\n",
        "plt.xlabel('true label')\n",
        "plt.ylabel('predicted label')\n"
      ],
      "execution_count": 28,
      "outputs": [
        {
          "output_type": "execute_result",
          "data": {
            "text/plain": [
              "Text(91.68, 0.5, 'predicted label')"
            ]
          },
          "metadata": {
            "tags": []
          },
          "execution_count": 28
        },
        {
          "output_type": "display_data",
          "data": {
            "image/png": "[encoded data removed]",
            "text/plain": [
              "<Figure size 432x288 with 1 Axes>"
            ]
          },
          "metadata": {
            "tags": []
          }
        }
      ]
    },
    {
      "cell_type": "code",
      "metadata": {
        "id": "_VrvuFDAf6st",
        "colab_type": "code",
        "colab": {
          "base_uri": "https://localhost:8080/",
          "height": 867
        },
        "outputId": "1b5ae0da-f1c8-4d33-cb33-4ca1decfbd03"
      },
      "source": [
        "#MULTILABEL CONFUSION MATRIX for KNN\n",
        "import numpy as np\n",
        "from sklearn.metrics import multilabel_confusion_matrix\n",
        "\n",
        "\n",
        "#multilabel_confusion_matrix(y_true, y_pred, sample_weight=None, labels=None, samplewise=False)\n",
        "cm = multilabel_confusion_matrix(y_test, y_predict_KN, sample_weight=None, samplewise=False)\n",
        "\n",
        "print(cm)\n",
        "\n",
        "#[[TN, FP], \n",
        "# [FN,TP]], ith True on the left (Neg, Pos) and predict on the top (Neg, Pos)\n",
        "\n",
        "#f1_score_DT = f1_score(y_test,y_predict_DT, average=None)\n",
        "\n",
        "#labels=[\"agr\",\"art\",\"cons\",\"corp\",\"edu\",\"fin\",\"good\",\"gov\",\"hlth\",\"leg\",\"man\",\"med\",\"org\",\"rec\",\"serv\",\"tech\",\"tran\"],"
      ],
      "execution_count": 29,
      "outputs": [
        {
          "output_type": "stream",
          "text": [
            "[[[170   2]\n",
            "  [  0   0]]\n",
            "\n",
            " [[167   2]\n",
            "  [  3   0]]\n",
            "\n",
            " [[145   8]\n",
            "  [ 13   6]]\n",
            "\n",
            " [[117  25]\n",
            "  [ 21   9]]\n",
            "\n",
            " [[168   2]\n",
            "  [  2   0]]\n",
            "\n",
            " [[136  11]\n",
            "  [ 18   7]]\n",
            "\n",
            " [[118  19]\n",
            "  [ 30   5]]\n",
            "\n",
            " [[158   6]\n",
            "  [  5   3]]\n",
            "\n",
            " [[156   9]\n",
            "  [  6   1]]\n",
            "\n",
            " [[169   3]\n",
            "  [  0   0]]\n",
            "\n",
            " [[122  19]\n",
            "  [ 21  10]]\n",
            "\n",
            " [[125  19]\n",
            "  [ 18  10]]\n",
            "\n",
            " [[151  13]\n",
            "  [  6   2]]\n",
            "\n",
            " [[136  16]\n",
            "  [ 17   3]]\n",
            "\n",
            " [[146  14]\n",
            "  [  9   3]]\n",
            "\n",
            " [[118  20]\n",
            "  [ 24  10]]\n",
            "\n",
            " [[161   7]\n",
            "  [  3   1]]]\n"
          ],
          "name": "stdout"
        }
      ]
    },
    {
      "cell_type": "code",
      "metadata": {
        "id": "jfBAjHonoYF8",
        "colab_type": "code",
        "colab": {
          "base_uri": "https://localhost:8080/",
          "height": 300
        },
        "outputId": "aac2f5cf-b225-4994-a9a4-1812927c6c09"
      },
      "source": [
        "#Plot a confusion matrix for each targeted label using the values of the Multilabel decision matrix on the KN\n",
        "#label \"agr\"\n",
        "\n",
        "from sklearn.metrics import confusion_matrix\n",
        "import seaborn as sns\n",
        "import matplotlib.pyplot as plt \n",
        "import numpy as np\n",
        "\n",
        "\n",
        "mat = np.array([[170,2], [0,0]])\n",
        "       \n",
        "\n",
        "sns.heatmap(mat.T, square=True, annot=True, fmt='d', cbar=False)\n",
        "plt.xlabel('true label')\n",
        "plt.ylabel('predicted label')"
      ],
      "execution_count": 30,
      "outputs": [
        {
          "output_type": "execute_result",
          "data": {
            "text/plain": [
              "Text(91.68, 0.5, 'predicted label')"
            ]
          },
          "metadata": {
            "tags": []
          },
          "execution_count": 30
        },
        {
          "output_type": "display_data",
          "data": {
            "image/png": "[encoded data removed]",
            "text/plain": [
              "<Figure size 432x288 with 1 Axes>"
            ]
          },
          "metadata": {
            "tags": []
          }
        }
      ]
    },
    {
      "cell_type": "code",
      "metadata": {
        "id": "XySX55RaoYUb",
        "colab_type": "code",
        "colab": {
          "base_uri": "https://localhost:8080/",
          "height": 300
        },
        "outputId": "9d888c1f-826b-4221-e7be-381d15f5eada"
      },
      "source": [
        "#Plot a confusion matrix for each targeted label using the values of the Multilabel decision matrix on the KN\n",
        "#label \"art\"\n",
        "\n",
        "from sklearn.metrics import confusion_matrix\n",
        "import seaborn as sns\n",
        "import matplotlib.pyplot as plt \n",
        "import numpy as np\n",
        "\n",
        "\n",
        "mat = np.array([[167,2], [3,0]])\n",
        "       \n",
        "\n",
        "sns.heatmap(mat.T, square=True, annot=True, fmt='d', cbar=False)\n",
        "plt.xlabel('true label')\n",
        "plt.ylabel('predicted label')"
      ],
      "execution_count": 31,
      "outputs": [
        {
          "output_type": "execute_result",
          "data": {
            "text/plain": [
              "Text(91.68, 0.5, 'predicted label')"
            ]
          },
          "metadata": {
            "tags": []
          },
          "execution_count": 31
        },
        {
          "output_type": "display_data",
          "data": {
            "image/png": "[encoded data removed]",
            "text/plain": [
              "<Figure size 432x288 with 1 Axes>"
            ]
          },
          "metadata": {
            "tags": []
          }
        }
      ]
    },
    {
      "cell_type": "code",
      "metadata": {
        "id": "51-tvJxJoYcw",
        "colab_type": "code",
        "colab": {
          "base_uri": "https://localhost:8080/",
          "height": 300
        },
        "outputId": "cd91bc5f-30dc-4eed-cc51-ade27cf58ba2"
      },
      "source": [
        "#Plot a confusion matrix for each targeted label using the values of the Multilabel decision matrix on the KN\n",
        "#label \"\"cons\n",
        "\n",
        "from sklearn.metrics import confusion_matrix\n",
        "import seaborn as sns\n",
        "import matplotlib.pyplot as plt \n",
        "import numpy as np\n",
        "\n",
        "\n",
        "mat = np.array([[145,8], [13,6]])\n",
        "       \n",
        "\n",
        "sns.heatmap(mat.T, square=True, annot=True, fmt='d', cbar=False)\n",
        "plt.xlabel('true label')\n",
        "plt.ylabel('predicted label')"
      ],
      "execution_count": 32,
      "outputs": [
        {
          "output_type": "execute_result",
          "data": {
            "text/plain": [
              "Text(91.68, 0.5, 'predicted label')"
            ]
          },
          "metadata": {
            "tags": []
          },
          "execution_count": 32
        },
        {
          "output_type": "display_data",
          "data": {
            "image/png": "[encoded data removed]",
            "text/plain": [
              "<Figure size 432x288 with 1 Axes>"
            ]
          },
          "metadata": {
            "tags": []
          }
        }
      ]
    },
    {
      "cell_type": "code",
      "metadata": {
        "id": "PyFpgakJoYj4",
        "colab_type": "code",
        "colab": {
          "base_uri": "https://localhost:8080/",
          "height": 300
        },
        "outputId": "8a88fee9-517b-43da-c7f0-a5ff173b8138"
      },
      "source": [
        "#Plot a confusion matrix for each targeted label using the values of the Multilabel decision matrix on the KN\n",
        "#label \"corp\"\n",
        "\n",
        "from sklearn.metrics import confusion_matrix\n",
        "import seaborn as sns\n",
        "import matplotlib.pyplot as plt \n",
        "import numpy as np\n",
        "\n",
        "\n",
        "mat = np.array([[117,25], [21,9]])\n",
        "       \n",
        "\n",
        "sns.heatmap(mat.T, square=True, annot=True, fmt='d', cbar=False)\n",
        "plt.xlabel('true label')\n",
        "plt.ylabel('predicted label')"
      ],
      "execution_count": 33,
      "outputs": [
        {
          "output_type": "execute_result",
          "data": {
            "text/plain": [
              "Text(91.68, 0.5, 'predicted label')"
            ]
          },
          "metadata": {
            "tags": []
          },
          "execution_count": 33
        },
        {
          "output_type": "display_data",
          "data": {
            "image/png": "[encoded data removed]",
            "text/plain": [
              "<Figure size 432x288 with 1 Axes>"
            ]
          },
          "metadata": {
            "tags": []
          }
        }
      ]
    },
    {
      "cell_type": "code",
      "metadata": {
        "id": "FIUB1XtvoYrl",
        "colab_type": "code",
        "colab": {
          "base_uri": "https://localhost:8080/",
          "height": 300
        },
        "outputId": "17b3111c-7a14-446b-9c99-85df69b137f8"
      },
      "source": [
        "#Plot a confusion matrix for each targeted label using the values of the Multilabel decision matrix on the KN\n",
        "#label \"edu\"\n",
        "\n",
        "from sklearn.metrics import confusion_matrix\n",
        "import seaborn as sns\n",
        "import matplotlib.pyplot as plt \n",
        "import numpy as np\n",
        "\n",
        "\n",
        "mat = np.array([[168,2], [2,0]])\n",
        "       \n",
        "\n",
        "sns.heatmap(mat.T, square=True, annot=True, fmt='d', cbar=False)\n",
        "plt.xlabel('true label')\n",
        "plt.ylabel('predicted label')"
      ],
      "execution_count": 34,
      "outputs": [
        {
          "output_type": "execute_result",
          "data": {
            "text/plain": [
              "Text(91.68, 0.5, 'predicted label')"
            ]
          },
          "metadata": {
            "tags": []
          },
          "execution_count": 34
        },
        {
          "output_type": "display_data",
          "data": {
            "image/png": "[encoded data removed]",
            "text/plain": [
              "<Figure size 432x288 with 1 Axes>"
            ]
          },
          "metadata": {
            "tags": []
          }
        }
      ]
    },
    {
      "cell_type": "code",
      "metadata": {
        "id": "Gma7oV4IoYyi",
        "colab_type": "code",
        "colab": {
          "base_uri": "https://localhost:8080/",
          "height": 300
        },
        "outputId": "80c5d337-558c-44a0-bd4f-4be752aa0f52"
      },
      "source": [
        "#Plot a confusion matrix for each targeted label using the values of the Multilabel decision matrix on the KN\n",
        "#label \"fin\"\n",
        "\n",
        "from sklearn.metrics import confusion_matrix\n",
        "import seaborn as sns\n",
        "import matplotlib.pyplot as plt \n",
        "import numpy as np\n",
        "\n",
        "\n",
        "mat = np.array([[136,11], [18,7]])\n",
        "       \n",
        "\n",
        "sns.heatmap(mat.T, square=True, annot=True, fmt='d', cbar=False)\n",
        "plt.xlabel('true label')\n",
        "plt.ylabel('predicted label')"
      ],
      "execution_count": 35,
      "outputs": [
        {
          "output_type": "execute_result",
          "data": {
            "text/plain": [
              "Text(91.68, 0.5, 'predicted label')"
            ]
          },
          "metadata": {
            "tags": []
          },
          "execution_count": 35
        },
        {
          "output_type": "display_data",
          "data": {
            "image/png": "[encoded data removed]",
            "text/plain": [
              "<Figure size 432x288 with 1 Axes>"
            ]
          },
          "metadata": {
            "tags": []
          }
        }
      ]
    },
    {
      "cell_type": "code",
      "metadata": {
        "id": "jJfsg1wooY59",
        "colab_type": "code",
        "colab": {
          "base_uri": "https://localhost:8080/",
          "height": 300
        },
        "outputId": "323b48c1-9859-4518-eaca-1159e1524110"
      },
      "source": [
        "#Plot a confusion matrix for each targeted label using the values of the Multilabel decision matrix on the KN\n",
        "#label \"good\"\n",
        "\n",
        "from sklearn.metrics import confusion_matrix\n",
        "import seaborn as sns\n",
        "import matplotlib.pyplot as plt \n",
        "import numpy as np\n",
        "\n",
        "\n",
        "mat = np.array([[118,19], [30,5]])\n",
        "       \n",
        "\n",
        "sns.heatmap(mat.T, square=True, annot=True, fmt='d', cbar=False)\n",
        "plt.xlabel('true label')\n",
        "plt.ylabel('predicted label')"
      ],
      "execution_count": 36,
      "outputs": [
        {
          "output_type": "execute_result",
          "data": {
            "text/plain": [
              "Text(91.68, 0.5, 'predicted label')"
            ]
          },
          "metadata": {
            "tags": []
          },
          "execution_count": 36
        },
        {
          "output_type": "display_data",
          "data": {
            "image/png": "[encoded data removed]",
            "text/plain": [
              "<Figure size 432x288 with 1 Axes>"
            ]
          },
          "metadata": {
            "tags": []
          }
        }
      ]
    },
    {
      "cell_type": "code",
      "metadata": {
        "id": "bfNd1W8VoZAe",
        "colab_type": "code",
        "colab": {
          "base_uri": "https://localhost:8080/",
          "height": 300
        },
        "outputId": "2f903910-69d5-4ba5-91d0-41b96f191343"
      },
      "source": [
        "#Plot a confusion matrix for each targeted label using the values of the Multilabel decision matrix on the KN\n",
        "#label \"gov\"\n",
        "\n",
        "from sklearn.metrics import confusion_matrix\n",
        "import seaborn as sns\n",
        "import matplotlib.pyplot as plt \n",
        "import numpy as np\n",
        "\n",
        "\n",
        "mat = np.array([[158,6], [5,3]])\n",
        "       \n",
        "\n",
        "sns.heatmap(mat.T, square=True, annot=True, fmt='d', cbar=False)\n",
        "plt.xlabel('true label')\n",
        "plt.ylabel('predicted label')"
      ],
      "execution_count": 37,
      "outputs": [
        {
          "output_type": "execute_result",
          "data": {
            "text/plain": [
              "Text(91.68, 0.5, 'predicted label')"
            ]
          },
          "metadata": {
            "tags": []
          },
          "execution_count": 37
        },
        {
          "output_type": "display_data",
          "data": {
            "image/png": "[encoded data removed]",
            "text/plain": [
              "<Figure size 432x288 with 1 Axes>"
            ]
          },
          "metadata": {
            "tags": []
          }
        }
      ]
    },
    {
      "cell_type": "code",
      "metadata": {
        "id": "euaRbImIoZHp",
        "colab_type": "code",
        "colab": {
          "base_uri": "https://localhost:8080/",
          "height": 300
        },
        "outputId": "3090b2d8-906d-49bc-dbed-1bf341b00739"
      },
      "source": [
        "#Plot a confusion matrix for each targeted label using the values of the Multilabel decision matrix on the KN\n",
        "#label \"hlth\"\n",
        "\n",
        "from sklearn.metrics import confusion_matrix\n",
        "import seaborn as sns\n",
        "import matplotlib.pyplot as plt \n",
        "import numpy as np\n",
        "\n",
        "\n",
        "mat = np.array([[156,9], [6,1]])\n",
        "       \n",
        "\n",
        "sns.heatmap(mat.T, square=True, annot=True, fmt='d', cbar=False)\n",
        "plt.xlabel('true label')\n",
        "plt.ylabel('predicted label')"
      ],
      "execution_count": 38,
      "outputs": [
        {
          "output_type": "execute_result",
          "data": {
            "text/plain": [
              "Text(91.68, 0.5, 'predicted label')"
            ]
          },
          "metadata": {
            "tags": []
          },
          "execution_count": 38
        },
        {
          "output_type": "display_data",
          "data": {
            "image/png": "[encoded data removed]",
            "text/plain": [
              "<Figure size 432x288 with 1 Axes>"
            ]
          },
          "metadata": {
            "tags": []
          }
        }
      ]
    },
    {
      "cell_type": "code",
      "metadata": {
        "id": "qgbSDjbQoZOd",
        "colab_type": "code",
        "colab": {
          "base_uri": "https://localhost:8080/",
          "height": 300
        },
        "outputId": "bfa1e279-8bc9-407e-901a-ba9956b69ce9"
      },
      "source": [
        "#Plot a confusion matrix for each targeted label using the values of the Multilabel decision matrix on the KN\n",
        "#label \"leg\"\n",
        "\n",
        "from sklearn.metrics import confusion_matrix\n",
        "import seaborn as sns\n",
        "import matplotlib.pyplot as plt \n",
        "import numpy as np\n",
        "\n",
        "\n",
        "mat = np.array([[169,3], [0,0]])\n",
        "       \n",
        "\n",
        "sns.heatmap(mat.T, square=True, annot=True, fmt='d', cbar=False)\n",
        "plt.xlabel('true label')\n",
        "plt.ylabel('predicted label')"
      ],
      "execution_count": 39,
      "outputs": [
        {
          "output_type": "execute_result",
          "data": {
            "text/plain": [
              "Text(91.68, 0.5, 'predicted label')"
            ]
          },
          "metadata": {
            "tags": []
          },
          "execution_count": 39
        },
        {
          "output_type": "display_data",
          "data": {
            "image/png": "[encoded data removed]",
            "text/plain": [
              "<Figure size 432x288 with 1 Axes>"
            ]
          },
          "metadata": {
            "tags": []
          }
        }
      ]
    },
    {
      "cell_type": "code",
      "metadata": {
        "id": "RFmTdBLaoZUv",
        "colab_type": "code",
        "colab": {
          "base_uri": "https://localhost:8080/",
          "height": 300
        },
        "outputId": "00749786-1127-4696-de72-c3101ce98632"
      },
      "source": [
        "#Plot a confusion matrix for each targeted label using the values of the Multilabel decision matrix on the KN\n",
        "#label \"man\"\n",
        "\n",
        "from sklearn.metrics import confusion_matrix\n",
        "import seaborn as sns\n",
        "import matplotlib.pyplot as plt \n",
        "import numpy as np\n",
        "\n",
        "\n",
        "mat = np.array([[122,19], [21,10]])\n",
        "       \n",
        "\n",
        "sns.heatmap(mat.T, square=True, annot=True, fmt='d', cbar=False)\n",
        "plt.xlabel('true label')\n",
        "plt.ylabel('predicted label')"
      ],
      "execution_count": 40,
      "outputs": [
        {
          "output_type": "execute_result",
          "data": {
            "text/plain": [
              "Text(91.68, 0.5, 'predicted label')"
            ]
          },
          "metadata": {
            "tags": []
          },
          "execution_count": 40
        },
        {
          "output_type": "display_data",
          "data": {
            "image/png": "[encoded data removed]",
            "text/plain": [
              "<Figure size 432x288 with 1 Axes>"
            ]
          },
          "metadata": {
            "tags": []
          }
        }
      ]
    },
    {
      "cell_type": "code",
      "metadata": {
        "id": "nY_gofZWoZa_",
        "colab_type": "code",
        "colab": {
          "base_uri": "https://localhost:8080/",
          "height": 300
        },
        "outputId": "e2b7de4f-743a-460c-cc3c-a9ec7fc794ae"
      },
      "source": [
        "#Plot a confusion matrix for each targeted label using the values of the Multilabel decision matrix on the KN\n",
        "#label \"med\"\n",
        "\n",
        "from sklearn.metrics import confusion_matrix\n",
        "import seaborn as sns\n",
        "import matplotlib.pyplot as plt \n",
        "import numpy as np\n",
        "\n",
        "\n",
        "mat = np.array([[125,19], [18,10]])\n",
        "       \n",
        "\n",
        "sns.heatmap(mat.T, square=True, annot=True, fmt='d', cbar=False)\n",
        "plt.xlabel('true label')\n",
        "plt.ylabel('predicted label')"
      ],
      "execution_count": 41,
      "outputs": [
        {
          "output_type": "execute_result",
          "data": {
            "text/plain": [
              "Text(91.68, 0.5, 'predicted label')"
            ]
          },
          "metadata": {
            "tags": []
          },
          "execution_count": 41
        },
        {
          "output_type": "display_data",
          "data": {
            "image/png": "[encoded data removed]",
            "text/plain": [
              "<Figure size 432x288 with 1 Axes>"
            ]
          },
          "metadata": {
            "tags": []
          }
        }
      ]
    },
    {
      "cell_type": "code",
      "metadata": {
        "id": "S88kIakRoZg5",
        "colab_type": "code",
        "colab": {
          "base_uri": "https://localhost:8080/",
          "height": 300
        },
        "outputId": "f598b510-6b6b-4efd-cf40-61552686e8cd"
      },
      "source": [
        "#Plot a confusion matrix for each targeted label using the values of the Multilabel decision matrix on the KN\n",
        "#label \"org\"\n",
        "\n",
        "from sklearn.metrics import confusion_matrix\n",
        "import seaborn as sns\n",
        "import matplotlib.pyplot as plt \n",
        "import numpy as np\n",
        "\n",
        "\n",
        "mat = np.array([[151,13], [6,2]])\n",
        "       \n",
        "\n",
        "sns.heatmap(mat.T, square=True, annot=True, fmt='d', cbar=False)\n",
        "plt.xlabel('true label')\n",
        "plt.ylabel('predicted label')"
      ],
      "execution_count": 42,
      "outputs": [
        {
          "output_type": "execute_result",
          "data": {
            "text/plain": [
              "Text(91.68, 0.5, 'predicted label')"
            ]
          },
          "metadata": {
            "tags": []
          },
          "execution_count": 42
        },
        {
          "output_type": "display_data",
          "data": {
            "image/png": "[encoded data removed]",
            "text/plain": [
              "<Figure size 432x288 with 1 Axes>"
            ]
          },
          "metadata": {
            "tags": []
          }
        }
      ]
    },
    {
      "cell_type": "code",
      "metadata": {
        "id": "mCcWX9-5oZmD",
        "colab_type": "code",
        "colab": {
          "base_uri": "https://localhost:8080/",
          "height": 300
        },
        "outputId": "0de58412-7cb3-466a-e274-00d211cf52d5"
      },
      "source": [
        "#Plot a confusion matrix for each targeted label using the values of the Multilabel decision matrix on the KN\n",
        "#label \"rec\"\n",
        "\n",
        "from sklearn.metrics import confusion_matrix\n",
        "import seaborn as sns\n",
        "import matplotlib.pyplot as plt \n",
        "import numpy as np\n",
        "\n",
        "\n",
        "mat = np.array([[136,16], [17,3]])\n",
        "       \n",
        "\n",
        "sns.heatmap(mat.T, square=True, annot=True, fmt='d', cbar=False)\n",
        "plt.xlabel('true label')\n",
        "plt.ylabel('predicted label')"
      ],
      "execution_count": 43,
      "outputs": [
        {
          "output_type": "execute_result",
          "data": {
            "text/plain": [
              "Text(91.68, 0.5, 'predicted label')"
            ]
          },
          "metadata": {
            "tags": []
          },
          "execution_count": 43
        },
        {
          "output_type": "display_data",
          "data": {
            "image/png": "[encoded data removed]",
            "text/plain": [
              "<Figure size 432x288 with 1 Axes>"
            ]
          },
          "metadata": {
            "tags": []
          }
        }
      ]
    },
    {
      "cell_type": "code",
      "metadata": {
        "id": "ojjUM-FfoZrd",
        "colab_type": "code",
        "colab": {
          "base_uri": "https://localhost:8080/",
          "height": 300
        },
        "outputId": "c00460dc-651d-4ce8-c1b8-d3073af0b64f"
      },
      "source": [
        "#Plot a confusion matrix for each targeted label using the values of the Multilabel decision matrix on the KN\n",
        "#label \"serv\"\n",
        "\n",
        "from sklearn.metrics import confusion_matrix\n",
        "import seaborn as sns\n",
        "import matplotlib.pyplot as plt \n",
        "import numpy as np\n",
        "\n",
        "\n",
        "mat = np.array([[146,14], [9,3]])\n",
        "       \n",
        "\n",
        "sns.heatmap(mat.T, square=True, annot=True, fmt='d', cbar=False)\n",
        "plt.xlabel('true label')\n",
        "plt.ylabel('predicted label')"
      ],
      "execution_count": 44,
      "outputs": [
        {
          "output_type": "execute_result",
          "data": {
            "text/plain": [
              "Text(91.68, 0.5, 'predicted label')"
            ]
          },
          "metadata": {
            "tags": []
          },
          "execution_count": 44
        },
        {
          "output_type": "display_data",
          "data": {
            "image/png": "[encoded data removed]",
            "text/plain": [
              "<Figure size 432x288 with 1 Axes>"
            ]
          },
          "metadata": {
            "tags": []
          }
        }
      ]
    },
    {
      "cell_type": "code",
      "metadata": {
        "id": "M54kboa7oZw8",
        "colab_type": "code",
        "colab": {
          "base_uri": "https://localhost:8080/",
          "height": 300
        },
        "outputId": "2eef061f-996a-4f84-dcb2-3a6d8efe0c5e"
      },
      "source": [
        "#Plot a confusion matrix for each targeted label using the values of the Multilabel decision matrix on the KN\n",
        "#label \"tech\"\n",
        "\n",
        "from sklearn.metrics import confusion_matrix\n",
        "import seaborn as sns\n",
        "import matplotlib.pyplot as plt \n",
        "import numpy as np\n",
        "\n",
        "\n",
        "mat = np.array([[118,20], [24,10]])\n",
        "       \n",
        "\n",
        "sns.heatmap(mat.T, square=True, annot=True, fmt='d', cbar=False)\n",
        "plt.xlabel('true label')\n",
        "plt.ylabel('predicted label')"
      ],
      "execution_count": 45,
      "outputs": [
        {
          "output_type": "execute_result",
          "data": {
            "text/plain": [
              "Text(91.68, 0.5, 'predicted label')"
            ]
          },
          "metadata": {
            "tags": []
          },
          "execution_count": 45
        },
        {
          "output_type": "display_data",
          "data": {
            "image/png": "[encoded data removed]",
            "text/plain": [
              "<Figure size 432x288 with 1 Axes>"
            ]
          },
          "metadata": {
            "tags": []
          }
        }
      ]
    },
    {
      "cell_type": "code",
      "metadata": {
        "id": "264WMptIoZ1x",
        "colab_type": "code",
        "colab": {
          "base_uri": "https://localhost:8080/",
          "height": 300
        },
        "outputId": "1bff1149-e2eb-4102-d521-d9a60650bd9c"
      },
      "source": [
        "#Plot a confusion matrix for each targeted label using the values of the Multilabel decision matrix on the KN\n",
        "#label \"tran\"\n",
        "\n",
        "from sklearn.metrics import confusion_matrix\n",
        "import seaborn as sns\n",
        "import matplotlib.pyplot as plt \n",
        "import numpy as np\n",
        "\n",
        "\n",
        "mat = np.array([[161,7], [3,1]])\n",
        "       \n",
        "\n",
        "sns.heatmap(mat.T, square=True, annot=True, fmt='d', cbar=False)\n",
        "plt.xlabel('true label')\n",
        "plt.ylabel('predicted label')"
      ],
      "execution_count": 46,
      "outputs": [
        {
          "output_type": "execute_result",
          "data": {
            "text/plain": [
              "Text(91.68, 0.5, 'predicted label')"
            ]
          },
          "metadata": {
            "tags": []
          },
          "execution_count": 46
        },
        {
          "output_type": "display_data",
          "data": {
            "image/png": "[encoded data removed]",
            "text/plain": [
              "<Figure size 432x288 with 1 Axes>"
            ]
          },
          "metadata": {
            "tags": []
          }
        }
      ]
    },
    {
      "cell_type": "code",
      "metadata": {
        "id": "Kh3ovc9h5MG3",
        "colab_type": "code",
        "outputId": "f636c56b-65f4-4ba4-ddab-f233ef8bb4a0",
        "colab": {
          "base_uri": "https://localhost:8080/",
          "height": 281
        }
      },
      "source": [
        "#EXPERIMENT 2\n",
        "# Plot learning curves\n",
        "from skmultilearn.problem_transform import ClassifierChain\n",
        "from skmultilearn.problem_transform import LabelPowerset\n",
        "from sklearn.tree import DecisionTreeClassifier\n",
        "from sklearn.metrics import label_ranking_loss\n",
        "from sklearn.metrics import hamming_loss\n",
        "\n",
        "import matplotlib.pyplot as plt\n",
        "\n",
        "\n",
        "def plot_learning_curves(model, X, y):\n",
        "    X_train, X_test, y_train, y_test = train_test_split(X, y, test_size=0.25, random_state=42)\n",
        "    mms = MinMaxScaler()\n",
        "    X_train_norm = mms.fit_transform(X_train)\n",
        "    X_test_norm = mms.transform(X_test)\n",
        "    train_errors, test_errors = [], []\n",
        "    for m in range(1, 570, 10):\n",
        "        model.fit(X_train[:m], y_train[:m])\n",
        "        y_train_predict = model.predict(X_train_norm[:m])\n",
        "        y_test_predict = model.predict(X_test_norm)\n",
        "        train_errors.append(hamming_loss(y_train_predict, y_train[:m]))\n",
        "        test_errors.append(hamming_loss(y_test_predict, y_test))           \n",
        "        plt.plot(train_errors, \"r-\", label=\"Training data\", linewidth = 2)\n",
        "        plt.plot(test_errors, \"b-\", linewidth = 2, label=\"Test data\")\n",
        "        plt.legend(bbox_to_anchor=(1.05, 1), loc='upper left', borderaxespad=0.)\n",
        "        plt.legend([\"Training data\",\"Test data\"])\n",
        "        plt.ylabel('Hamming Loss')\n",
        "        plt.title('Tree EntropyIndex Learning Curves')\n",
        "        plt.ylim(0, 1.5)\n",
        "\n",
        "tree_giniIndex = ClassifierChain(DecisionTreeClassifier(criterion='entropy', max_depth=15))\n",
        "plot_learning_curves(tree_giniIndex, X, y)\n",
        "\n",
        "\n",
        "                     "
      ],
      "execution_count": 49,
      "outputs": [
        {
          "output_type": "display_data",
          "data": {
            "image/png": "[encoded data removed]",
            "text/plain": [
              "<Figure size 432x288 with 1 Axes>"
            ]
          },
          "metadata": {
            "tags": []
          }
        }
      ]
    },
    {
      "cell_type": "code",
      "metadata": {
        "id": "S2bJN81dfW5j",
        "colab_type": "code",
        "outputId": "a4c48b7a-1db9-4096-d0e3-bb942456cc40",
        "colab": {
          "base_uri": "https://localhost:8080/",
          "height": 281
        }
      },
      "source": [
        "def plot_learning_curves(model, X, y):\n",
        "    X_train, X_test, y_train, y_test = train_test_split(X, y, test_size=0.25, random_state=42)\n",
        "    mms = MinMaxScaler()\n",
        "    X_train_norm = mms.fit_transform(X_train)\n",
        "    X_test_norm = mms.transform(X_test)\n",
        "    train_errors, test_errors = [], []\n",
        "    for m in range(1, 570, 10):\n",
        "        model.fit(X_train[:m], y_train[:m])\n",
        "        y_train_predict = model.predict(X_train_norm[:m])\n",
        "        y_test_predict = model.predict(X_test_norm)\n",
        "        train_errors.append(label_ranking_loss(y_train_predict, y_train[:m]))\n",
        "        test_errors.append(label_ranking_loss(y_test_predict, y_test))\n",
        "        plt.plot(train_errors, \"r-\", label=\"Training data\", linewidth = 2)\n",
        "        plt.plot(test_errors, \"b-\", linewidth = 2, label=\"Test data\")\n",
        "        plt.legend(bbox_to_anchor=(1.05, 1), loc='upper left', borderaxespad=0.)\n",
        "        plt.legend([\"Training data\",\"Test data\"])\n",
        "        plt.ylabel('Label Ranking Loss')\n",
        "        plt.title('Tree EntropyIndex Learning Curves')\n",
        "        plt.ylim(0, 1.5)\n",
        "\n",
        "tree_giniIndex = ClassifierChain(DecisionTreeClassifier(criterion='entropy', max_depth=15))\n",
        "plot_learning_curves(tree_giniIndex, X, y)"
      ],
      "execution_count": 50,
      "outputs": [
        {
          "output_type": "display_data",
          "data": {
            "image/png": "[encoded data removed]",
            "text/plain": [
              "<Figure size 432x288 with 1 Axes>"
            ]
          },
          "metadata": {
            "tags": []
          }
        }
      ]
    },
    {
      "cell_type": "code",
      "metadata": {
        "id": "n96Bd9B6FoL9",
        "colab_type": "code",
        "outputId": "8e6a6e18-c0d6-43de-be1f-35f888537bea",
        "colab": {
          "base_uri": "https://localhost:8080/",
          "height": 281
        }
      },
      "source": [
        "#LEarning curve for KNeighboirs\n",
        "\n",
        "\n",
        "#b) KneighborsClassifier\n",
        "# using classifier chains\n",
        "from skmultilearn.problem_transform import ClassifierChain\n",
        "from sklearn.neighbors import KNeighborsClassifier\n",
        "import numpy as np\n",
        "from sklearn import metrics\n",
        "from sklearn.metrics import accuracy_score\n",
        "from sklearn.metrics import f1_score\n",
        "\n",
        "\n",
        "#normalization\n",
        "\n",
        "from sklearn.preprocessing import MinMaxScaler\n",
        "\n",
        "\n",
        "\n",
        "from skmultilearn.problem_transform import ClassifierChain\n",
        "from sklearn.neighbors import KNeighborsClassifier\n",
        "from sklearn.metrics import label_ranking_loss\n",
        "#from sklearn.metrics import hamming_loss\n",
        "\n",
        "import matplotlib.pyplot as plt\n",
        "\n",
        "def plot_learning_curves(model, X, y):\n",
        "    X_train, X_test, y_train, y_test = train_test_split(X, y, test_size=0.25, random_state=42)\n",
        "    mms = MinMaxScaler()\n",
        "    X_train_norm = mms.fit_transform(X_train)\n",
        "    X_test_norm = mms.transform(X_test)\n",
        "    train_errors, test_errors = [], []\n",
        "    for m in range(1, 570, 10):\n",
        "        model.fit(X_train_norm[:m], y_train[:m])\n",
        "        y_train_predict = model.predict(X_train_norm[:m])\n",
        "        y_test_predict = model.predict(X_test)\n",
        "        #train_errors.append(label_ranking_loss(y_train_predict, y_train[:m]))\n",
        "        train_errors.append(hamming_loss(y_train_predict, y_train[:m]))\n",
        "        #test_errors.append(label_ranking_loss(y_test_predict, y_test))\n",
        "        test_errors.append(hamming_loss(y_test_predict, y_test))\n",
        "        plt.plot(train_errors, \"r-\", linewidth = 1)\n",
        "        plt.plot(test_errors, \"b-\", linewidth = 1)\n",
        "        plt.legend([\"Training data\",\"Test data\"])\n",
        "        plt.ylabel('Hamming Loss')\n",
        "        plt.title('KNeighboirs Learning Curves')\n",
        "        plt.ylim(0, 1.5)\n",
        "\n",
        "Knclassifier = ClassifierChain(KNeighborsClassifier(n_neighbors=1, p =1))\n",
        "plot_learning_curves(Knclassifier, X, y)"
      ],
      "execution_count": 51,
      "outputs": [
        {
          "output_type": "display_data",
          "data": {
            "image/png": "[encoded data removed]",
            "text/plain": [
              "<Figure size 432x288 with 1 Axes>"
            ]
          },
          "metadata": {
            "tags": []
          }
        }
      ]
    },
    {
      "cell_type": "code",
      "metadata": {
        "id": "z68CXIWLgLJM",
        "colab_type": "code",
        "outputId": "5070d0b0-4fc1-443a-de43-e26d98cc0f19",
        "colab": {
          "base_uri": "https://localhost:8080/",
          "height": 281
        }
      },
      "source": [
        "#LEarning curve for KNeighboirs\n",
        "\n",
        "\n",
        "#b) KneighborsClassifier\n",
        "# using classifier chains\n",
        "from skmultilearn.problem_transform import ClassifierChain\n",
        "from sklearn.neighbors import KNeighborsClassifier\n",
        "import numpy as np\n",
        "from sklearn import metrics\n",
        "from sklearn.metrics import accuracy_score\n",
        "from sklearn.metrics import f1_score\n",
        "\n",
        "\n",
        "#normalization\n",
        "\n",
        "from sklearn.preprocessing import MinMaxScaler\n",
        "\n",
        "\n",
        "\n",
        "from skmultilearn.problem_transform import ClassifierChain\n",
        "from sklearn.neighbors import KNeighborsClassifier\n",
        "from sklearn.metrics import label_ranking_loss\n",
        "#from sklearn.metrics import hamming_loss\n",
        "\n",
        "import matplotlib.pyplot as plt\n",
        "\n",
        "def plot_learning_curves(model, X, y):\n",
        "    X_train, X_test, y_train, y_test = train_test_split(X, y, test_size=0.25, random_state=42)\n",
        "    mms = MinMaxScaler()\n",
        "    X_train_norm = mms.fit_transform(X_train)\n",
        "    X_test_norm = mms.transform(X_test)\n",
        "    train_errors, test_errors = [], []\n",
        "    for m in range(1, 570, 10):\n",
        "        model.fit(X_train_norm[:m], y_train[:m])\n",
        "        y_train_predict = model.predict(X_train_norm[:m])\n",
        "        y_test_predict = model.predict(X_test)\n",
        "        train_errors.append(label_ranking_loss(y_train_predict, y_train[:m]))\n",
        "        test_errors.append(label_ranking_loss(y_test_predict, y_test))\n",
        "        plt.plot(train_errors, \"r-\", linewidth = 1)\n",
        "        plt.plot(test_errors, \"b-\", linewidth = 1)\n",
        "        plt.legend([\"Training data\",\"Test data\"])\n",
        "        plt.ylabel('Label Ranking Loss')\n",
        "        plt.title('KNeighboirs Learning Curves')\n",
        "        plt.ylim(0, 1.5)\n",
        "\n",
        "Knclassifier = ClassifierChain(KNeighborsClassifier(n_neighbors=1, p =1))\n",
        "plot_learning_curves(Knclassifier, X, y)"
      ],
      "execution_count": 52,
      "outputs": [
        {
          "output_type": "display_data",
          "data": {
            "image/png": "[encoded data removed]",
            "text/plain": [
              "<Figure size 432x288 with 1 Axes>"
            ]
          },
          "metadata": {
            "tags": []
          }
        }
      ]
    }
  ]
}